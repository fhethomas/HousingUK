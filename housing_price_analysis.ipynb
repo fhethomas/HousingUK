{
 "cells": [
  {
   "cell_type": "code",
   "execution_count": null,
   "metadata": {
    "collapsed": true
   },
   "outputs": [],
   "source": [
    "# all data sourced from https://www.kaggle.com/hm-land-registry/uk-housing-prices-paid\n",
    "import numpy as np\n",
    "import pandas as pd\n",
    "import matplotlib.pyplot as plt\n",
    "%matplotlib inline\n",
    "import seaborn as sns\n",
    "from sklearn import linear_model\n",
    "from sklearn.svm import SVR\n",
    "\"\"\" important note conveyancy takes 6-8 weeks - this means that from accepting offer to \n",
    "Date of Transfer could be two months different - this will be accounted for later in document\"\"\""
   ]
  },
  {
   "cell_type": "code",
   "execution_count": null,
   "metadata": {
    "collapsed": true
   },
   "outputs": [],
   "source": [
    "# Load data\n",
    "housing_df = pd.read_csv('price_paid_records.csv')"
   ]
  },
  {
   "cell_type": "code",
   "execution_count": null,
   "metadata": {
    "collapsed": true
   },
   "outputs": [],
   "source": [
    "# Display head of data\n",
    "housing_df.head()"
   ]
  },
  {
   "cell_type": "code",
   "execution_count": null,
   "metadata": {
    "collapsed": true
   },
   "outputs": [],
   "source": [
    "#D = Detached, S = Semi-Detached, T = Terraced, F = Flats/Maisonettes, O = Other \n",
    "def property_filter_out(data,col,filter_out=''):\n",
    "    for item in filter_out:\n",
    "        data = data[data[col]!=item]\n",
    "    return data"
   ]
  },
  {
   "cell_type": "code",
   "execution_count": null,
   "metadata": {
    "collapsed": true
   },
   "outputs": [],
   "source": [
    "# Convert the date column to actual datetime + create month/year columns\n",
    "housing_df['Date of Transfer'] = pd.to_datetime(housing_df['Date of Transfer'],dayfirst=True)\n",
    "housing_df['Year'] = housing_df['Date of Transfer'].dt.year\n",
    "housing_df['Month'] = housing_df['Date of Transfer'].dt.month\n",
    "# filter out data we don't want\n",
    "housing_df = property_filter_out(housing_df,'Property Type','TFO')"
   ]
  },
  {
   "cell_type": "code",
   "execution_count": null,
   "metadata": {
    "collapsed": true
   },
   "outputs": [],
   "source": [
    "# Create a pivot table of data and select only the last 10 years\n",
    "housing_pivot = pd.pivot_table(housing_df,values='Price',index='Month',columns='Year',aggfunc='mean')\n",
    "time_range = np.arange(2006,2017)\n",
    "housing_pivot = housing_pivot[time_range]"
   ]
  },
  {
   "cell_type": "code",
   "execution_count": null,
   "metadata": {
    "collapsed": true
   },
   "outputs": [],
   "source": [
    "# Plot data\n",
    "plt.figure(figsize=(10,5))\n",
    "\n",
    "plt.subplot(1,1,1)\n",
    "plt.plot(housing_pivot)\n",
    "\n",
    "plt.legend(time_range,loc=4)\n",
    "plt.xlabel('Month Jan-Dec')\n",
    "plt.ylabel(\"Price - pounds\")\n",
    "plt.title(\"Price vs Month\")\n",
    "plt.show()"
   ]
  },
  {
   "cell_type": "code",
   "execution_count": null,
   "metadata": {
    "collapsed": true
   },
   "outputs": [],
   "source": [
    "# Take the mean across years for each month - does price really vary by month?\n",
    "avg_across_years = np.empty((12,1))\n",
    "\n",
    "for i in range(0,12):\n",
    "    avg_across_years[i,0] = np.mean(np.array(housing_pivot)[i,:])\n",
    "plt.plot(avg_across_years)\n",
    "plt.ylabel('Price - Pounds')\n",
    "plt.xlabel('Month Jan - Dec')\n",
    "plt.show()"
   ]
  },
  {
   "cell_type": "code",
   "execution_count": null,
   "metadata": {
    "collapsed": true
   },
   "outputs": [],
   "source": [
    "# What the above appears to show is that house prices vary by time of year\n",
    "# If it takes 2 months from acceptance of an offer to completion of handover\n",
    "# then lowest price point in the market will be the Winter months (Dec-Feb)\n",
    "# Does this hold true in all cases? Is this different by region?\n",
    "# Could this difference relate to weather? \n",
    "#(will need average monthly temp by year for each region)\n",
    "# Can we use:\n",
    "# https://www.metoffice.gov.uk/public/weather/climate-historic/#?tab=climateHistoric\n",
    "# Would this explain the variance from the best fit?"
   ]
  },
  {
   "cell_type": "code",
   "execution_count": null,
   "metadata": {
    "collapsed": true
   },
   "outputs": [],
   "source": [
    "# All regions:\n",
    "print(pd.unique(housing_df['County']))"
   ]
  },
  {
   "cell_type": "code",
   "execution_count": null,
   "metadata": {
    "collapsed": true
   },
   "outputs": [],
   "source": [
    "def region_plot(county,year_start=2015,year_end=2017):\n",
    "    housing_pivot = pd.pivot_table(housing_df[housing_df['County']==county],values='Price',index='Month',columns='Year',aggfunc='mean')\n",
    "    time_range = np.arange(year_start,year_end)\n",
    "    housing_pivot = housing_pivot[time_range]\n",
    "    X=np.array(housing_pivot.index)\n",
    "    for year in time_range:\n",
    "        y=housing_pivot[year]\n",
    "        housing_pivot['{0}_BestFit'.format(year)]=best_fit(X,y)\n",
    "    # Plot data\n",
    "    plt.figure(figsize=(10,5))\n",
    "    plt.subplot(1,1,1)\n",
    "    plt.plot(housing_pivot)\n",
    "    plt.legend(housing_pivot.columns,loc=4)\n",
    "    plt.xlabel('Month Jan-Dec')\n",
    "    plt.ylabel(\"Price - pounds\")\n",
    "    plt.title(\"Price vs Month\")\n",
    "    plt.show()\n",
    "    return housing_pivot"
   ]
  },
  {
   "cell_type": "code",
   "execution_count": null,
   "metadata": {
    "collapsed": true
   },
   "outputs": [],
   "source": [
    "piv=region_plot('GREATER LONDON',year_start=2012)"
   ]
  },
  {
   "cell_type": "code",
   "execution_count": null,
   "metadata": {
    "collapsed": true
   },
   "outputs": [],
   "source": [
    "def best_fit(X,y):\n",
    "    lr = linear_model.LinearRegression()\n",
    "    X=X.reshape(len(X),1)\n",
    "    y=y.reshape(len(y),1)\n",
    "    lr.fit(X,y)\n",
    "    return lr.predict(X)"
   ]
  },
  {
   "cell_type": "code",
   "execution_count": null,
   "metadata": {
    "collapsed": true
   },
   "outputs": [],
   "source": [
    "# we have data from UK as a whole \n",
    "uk_temp_df = pd.read_excel('weather1.xlsx')"
   ]
  },
  {
   "cell_type": "code",
   "execution_count": null,
   "metadata": {
    "collapsed": true
   },
   "outputs": [],
   "source": [
    "housing_pivot = pd.pivot_table(housing_df,values='Price',index='Month',columns='Year',aggfunc='mean')\n",
    "time_range = np.arange(2013,2017)\n",
    "housing_pivot = housing_pivot[time_range]"
   ]
  },
  {
   "cell_type": "code",
   "execution_count": null,
   "metadata": {
    "collapsed": true
   },
   "outputs": [],
   "source": [
    "housing_pivot"
   ]
  },
  {
   "cell_type": "code",
   "execution_count": null,
   "metadata": {
    "collapsed": true
   },
   "outputs": [],
   "source": [
    "lr = linear_model.LinearRegression()\n",
    "svr = SVR(kernel='linear')"
   ]
  },
  {
   "cell_type": "code",
   "execution_count": null,
   "metadata": {
    "collapsed": true
   },
   "outputs": [],
   "source": [
    "first = True\n",
    "for year in time_range:\n",
    "    temp_arr = np.ones((12,5))\n",
    "    temp_arr[:,0] = np.array([datetime.date(year,int(m),1) for m in housing_pivot.index],dtype='datetime64')\n",
    "    #weather squared\n",
    "    temp_arr[:,2] = np.array(uk_temp_df[str(year)])**2\n",
    "    # weather cubed\n",
    "    temp_arr[:,3] = np.array(uk_temp_df[str(year)])**3\n",
    "    temp_arr[:,4] = np.array(housing_pivot[year])\n",
    "    #print(np.array(housing_pivot[year]))\n",
    "    #print(uk_temp_df[str(year)])\n",
    "    if first == True:\n",
    "        X = temp_arr\n",
    "        first = False\n",
    "    else:\n",
    "        X = np.concatenate((X,temp_arr),axis=0)"
   ]
  },
  {
   "cell_type": "code",
   "execution_count": null,
   "metadata": {
    "collapsed": true
   },
   "outputs": [],
   "source": [
    "# fit linear model\n",
    "# fit simply with just datetime\n",
    "y = X[:,4]\n",
    "lr.fit(X[:,:1],y)\n",
    "lr_pred1 = lr.predict(X[:,:1])\n",
    "# fit with temp\n",
    "lr.fit(X[:,:2],y)\n",
    "lr_pred2 = lr.predict(X[:,:2])\n",
    "# with with temp squared\n",
    "lr.fit(X[:,:3],y)\n",
    "lr_pred3 = lr.predict(X[:,:3])\n",
    "#fit with temp cubed\n",
    "lr.fit(X[:,:4],y)\n",
    "lr_pred4 = lr.predict(X[:,:4])"
   ]
  },
  {
   "cell_type": "code",
   "execution_count": null,
   "metadata": {
    "collapsed": true
   },
   "outputs": [],
   "source": [
    "y"
   ]
  },
  {
   "cell_type": "code",
   "execution_count": null,
   "metadata": {
    "collapsed": true
   },
   "outputs": [],
   "source": [
    "plt.figure(figsize=(10,5))\n",
    "plt.plot(X[:,0],y)\n",
    "plt.plot(X[:,0],y,X[:,0],lr_pred1,X[:,0],lr_pred2,X[:,0],lr_pred3,X[:,0],lr_pred4)\n",
    "#plt.legend(['Price data','Regression','Regression with temp',\n",
    "#            'Regression with squared temp','Regression with cubed temp'])\n",
    "plt.show()\n"
   ]
  },
  {
   "cell_type": "code",
   "execution_count": null,
   "metadata": {
    "collapsed": true
   },
   "outputs": [],
   "source": [
    "import datetime"
   ]
  },
  {
   "cell_type": "code",
   "execution_count": null,
   "metadata": {
    "collapsed": true
   },
   "outputs": [],
   "source": [
    "datetime.date(2010,2,1)"
   ]
  },
  {
   "cell_type": "code",
   "execution_count": null,
   "metadata": {
    "collapsed": true
   },
   "outputs": [],
   "source": [
    "plt.subplot(1,2,1)\n",
    "plt.plot(X[:,0],lr_pred4)\n",
    "plt.subplot(1,2,2)\n",
    "plt.plot(X[:,0],y)"
   ]
  },
  {
   "cell_type": "code",
   "execution_count": null,
   "metadata": {
    "collapsed": true
   },
   "outputs": [],
   "source": [
    "lr_pred4-y"
   ]
  },
  {
   "cell_type": "code",
   "execution_count": null,
   "metadata": {
    "collapsed": true
   },
   "outputs": [],
   "source": [
    "np.array(lr.coef_,dtype='int')"
   ]
  },
  {
   "cell_type": "code",
   "execution_count": null,
   "metadata": {
    "collapsed": true
   },
   "outputs": [],
   "source": []
  },
  {
   "cell_type": "code",
   "execution_count": null,
   "metadata": {
    "collapsed": true
   },
   "outputs": [],
   "source": []
  }
 ],
 "metadata": {
  "anaconda-cloud": {},
  "kernelspec": {
   "display_name": "Python [default]",
   "language": "python",
   "name": "python3"
  },
  "language_info": {
   "codemirror_mode": {
    "name": "ipython",
    "version": 3
   },
   "file_extension": ".py",
   "mimetype": "text/x-python",
   "name": "python",
   "nbconvert_exporter": "python",
   "pygments_lexer": "ipython3",
   "version": "3.5.2"
  }
 },
 "nbformat": 4,
 "nbformat_minor": 2
}
