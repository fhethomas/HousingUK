{
 "cells": [
  {
   "cell_type": "code",
   "execution_count": null,
   "metadata": {},
   "outputs": [],
   "source": [
    "# all data sourced from https://www.kaggle.com/hm-land-registry/uk-housing-prices-paid\n",
    "import numpy as np\n",
    "import pandas as pd\n",
    "import matplotlib.pyplot as plt\n",
    "%matplotlib inline\n",
    "import seaborn as sns\n",
    "from sklearn import linear_model\n",
    "\"\"\" important note conveyancy takes 6-8 weeks - this means that from accepting offer to \n",
    "Date of Transfer could be two months different - this will be accounted for later in document\"\"\""
   ]
  },
  {
   "cell_type": "code",
   "execution_count": null,
   "metadata": {},
   "outputs": [],
   "source": [
    "# Load data\n",
    "housing_df = pd.read_csv('price_paid_records.csv')"
   ]
  },
  {
   "cell_type": "code",
   "execution_count": null,
   "metadata": {},
   "outputs": [],
   "source": [
    "# Display head of data\n",
    "housing_df.head()"
   ]
  },
  {
   "cell_type": "code",
   "execution_count": null,
   "metadata": {},
   "outputs": [],
   "source": [
    "#D = Detached, S = Semi-Detached, T = Terraced, F = Flats/Maisonettes, O = Other \n",
    "def property_filter_out(data,col,filter_out=''):\n",
    "    for item in filter_out:\n",
    "        data = data[data[col]!=item]\n",
    "    return data"
   ]
  },
  {
   "cell_type": "code",
   "execution_count": null,
   "metadata": {},
   "outputs": [],
   "source": [
    "# Convert the date column to actual datetime + create month/year columns\n",
    "housing_df['Date of Transfer'] = pd.to_datetime(housing_df['Date of Transfer'],dayfirst=True)\n",
    "housing_df['Year'] = housing_df['Date of Transfer'].dt.year\n",
    "housing_df['Month'] = housing_df['Date of Transfer'].dt.month\n",
    "# filter out data we don't want\n",
    "housing_df = property_filter_out(housing_df,'Property Type','TFO')"
   ]
  },
  {
   "cell_type": "code",
   "execution_count": null,
   "metadata": {},
   "outputs": [],
   "source": [
    "# Create a pivot table of data and select only the last 10 years\n",
    "housing_pivot = pd.pivot_table(housing_df,values='Price',index='Month',columns='Year',aggfunc='mean')\n",
    "time_range = np.arange(2006,2017)\n",
    "housing_pivot = housing_pivot[time_range]"
   ]
  },
  {
   "cell_type": "code",
   "execution_count": null,
   "metadata": {},
   "outputs": [],
   "source": [
    "# Plot data\n",
    "plt.figure(figsize=(10,5))\n",
    "\n",
    "plt.subplot(1,1,1)\n",
    "plt.plot(housing_pivot)\n",
    "\n",
    "plt.legend(time_range,loc=4)\n",
    "plt.xlabel('Month Jan-Dec')\n",
    "plt.ylabel(\"Price - pounds\")\n",
    "plt.title(\"Price vs Month\")\n",
    "plt.show()"
   ]
  },
  {
   "cell_type": "code",
   "execution_count": null,
   "metadata": {},
   "outputs": [],
   "source": [
    "# Take the mean across years for each month - does price really vary by month?\n",
    "avg_across_years = np.empty((12,1))\n",
    "\n",
    "for i in range(0,12):\n",
    "    avg_across_years[i,0] = np.mean(np.array(housing_pivot)[i,:])\n",
    "plt.plot(avg_across_years)\n",
    "plt.ylabel('Price - Pounds')\n",
    "plt.xlabel('Month Jan - Dec')\n",
    "plt.show()"
   ]
  },
  {
   "cell_type": "code",
   "execution_count": null,
   "metadata": {},
   "outputs": [],
   "source": [
    "# is this more interesting by region?"
   ]
  }
 ],
 "metadata": {
  "language_info": {
   "name": "python",
   "pygments_lexer": "ipython3"
  }
 },
 "nbformat": 4,
 "nbformat_minor": 2
}
